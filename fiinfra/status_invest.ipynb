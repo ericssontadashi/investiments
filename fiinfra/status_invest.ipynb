{
 "cells": [
  {
   "cell_type": "code",
   "execution_count": null,
   "id": "55e846ee-c985-4635-abc9-8ba6a1eda02f",
   "metadata": {},
   "outputs": [],
   "source": [
    "from bs4 import BeautifulSoup\n",
    "import requests\n",
    "from urllib.request import Request, urlopen\n",
    "import time\n",
    "import pandas as pd"
   ]
  },
  {
   "cell_type": "code",
   "execution_count": null,
   "id": "3bf06c4c-2d19-41b2-9d75-66154da69e57",
   "metadata": {},
   "outputs": [],
   "source": [
    "fiis_list = [\"cpti11\"]"
   ]
  },
  {
   "cell_type": "code",
   "execution_count": null,
   "id": "8d92584a-bbc1-4c3a-bca4-24de6bca098b",
   "metadata": {},
   "outputs": [],
   "source": [
    "fiis_indicators = []\n",
    "for fii in fiis_list:\n",
    "  url = f\"https://statusinvest.com.br/fiinfras/{fii}\"\n",
    "  \n",
    "  time.sleep(0.25)\n",
    "  try:\n",
    "    req = Request(url)\n",
    "    req.add_header('User-Agent', 'Mozilla/5.0 (Linux; Android 6.0; Nexus 5 Build/MRA58N) AppleWebKit/537.36 (KHTML, like Gecko) Chrome/119.0.0.0 Mobile Safari/537.36')\n",
    "    html = urlopen(req)\n",
    "    soup = BeautifulSoup(html, 'html.parser')\n",
    "      \n",
    "    fund = soup.find(\"div\", id=\"fund-section\")\n",
    "    main = soup.find(\"main\", id=\"main-2\")\n",
    "\n",
    "    name = fund.find(\"div\", \"company-description w-100 w-md-70 ml-md-5\").find(\"span\").getText()\n",
    "    #init = fund.find_all(\"div\")[19].find(\"strong\").getText()\n",
    "    #sector = fund.find_all(\"div\")[28].find(\"strong\").getText()\n",
    "    #type = fund.find_all(\"div\")[26].find(\"strong\").getText()\n",
    "    #administrator = fund.find(\"div\", \"container\").find_all(\"div\", recursive=False)[2].find(\"strong\", \"fw-700\").getText()\n",
    "\n",
    "    price = main.find(\"div\", title=\"Valor atual do ativo\").find(\"strong\").getText()\n",
    "    dividend_yield = main.find(\"div\", title=\"Dividend Yield com base nos últimos 12 meses\").find(\"strong\").getText()\n",
    "    #net_worth = main.find(\"div\", \"top-info top-info-2 top-info-md-3 top-info-lg-n d-flex justify-between\").find_all(\"div\", recursive=False)[0].find(\"span\", \"sub-value\").getText().replace(\"R$ \",\"\")\n",
    "    #asset_value = main.find(\"div\", \"top-info top-info-2 top-info-md-3 top-info-lg-n d-flex justify-between\").find_all(\"div\", recursive=False)[0].find(\"strong\").getText()\n",
    "    #pvp = main.find(\"div\", \"top-info top-info-2 top-info-md-3 top-info-lg-n d-flex justify-between\").find_all(\"div\", recursive=False)[1].find(\"strong\").getText()\n",
    "    #shareholders = main.find(\"div\", \"top-info top-info-2 top-info-md-3 top-info-lg-n d-flex justify-between\").find_all(\"div\", recursive=False)[5].find(\"strong\").getText()\n",
    "    lastDiv = main.find(\"div\", \"container pb-7\").find(\"div\", \"mt-5\").find(\"div\", \"list\").find(\"table\").find(\"tbody\").find_all(\"tr\")[1].find_all(\"td\")[3].getText()\n",
    "    nextDiv = main.find(\"div\", \"container pb-7\").find(\"div\", \"mt-5\").find(\"div\", \"list\").find(\"table\").find(\"tbody\").find_all(\"tr\")[0].find_all(\"td\")[3].getText()\n",
    "\n",
    "    dict = {  \"fii\": fii,\n",
    "        \"nome\": name,\n",
    "        #\"segmento\": sector,\n",
    "        #\"tipo\": type,\n",
    "        #\"administrador\": administrator,\n",
    "        #\"cotistas\" : shareholders,\n",
    "        #\"patrimonio\": net_worth,\n",
    "        #\"vp\" : asset_value,\n",
    "        \"valor_atual\": price,\n",
    "        #\"pvp\": pvp,\n",
    "        \"dividend_yield\": dividend_yield,\n",
    "        \"ultimo dividendo\" : lastDiv,\n",
    "        \"proximo dividendo\" : nextDiv,\n",
    "    }\n",
    "    fiis_indicators.append(dict)\n",
    "  except Exception as e:\n",
    "    print(e)"
   ]
  },
  {
   "cell_type": "code",
   "execution_count": null,
   "id": "158b53d6-eab5-48fd-9a9f-2cc442751dd4",
   "metadata": {},
   "outputs": [],
   "source": [
    "print(fiis_indicators)"
   ]
  },
  {
   "cell_type": "code",
   "execution_count": null,
   "id": "b0c298f4-217a-43bc-bc22-e2bd3570bf78",
   "metadata": {},
   "outputs": [],
   "source": [
    "df = pd.DataFrame.from_dict(fiis_indicators)"
   ]
  },
  {
   "cell_type": "code",
   "execution_count": null,
   "id": "c7795bf5-ee3b-4eb4-9fdd-bd55452ed752",
   "metadata": {},
   "outputs": [],
   "source": [
    "df.to_excel(\"fiinfras.xlsx\", index=False)"
   ]
  }
 ],
 "metadata": {
  "kernelspec": {
   "display_name": "Python 3 (ipykernel)",
   "language": "python",
   "name": "python3"
  },
  "language_info": {
   "codemirror_mode": {
    "name": "ipython",
    "version": 3
   },
   "file_extension": ".py",
   "mimetype": "text/x-python",
   "name": "python",
   "nbconvert_exporter": "python",
   "pygments_lexer": "ipython3",
   "version": "3.12.0"
  }
 },
 "nbformat": 4,
 "nbformat_minor": 5
}
