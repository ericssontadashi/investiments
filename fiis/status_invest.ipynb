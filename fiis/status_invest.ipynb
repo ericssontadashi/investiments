{
 "cells": [
  {
   "cell_type": "code",
   "execution_count": null,
   "metadata": {},
   "outputs": [],
   "source": [
    "from bs4 import BeautifulSoup\n",
    "import requests\n",
    "from urllib.request import Request, urlopen\n",
    "import time\n",
    "import pandas as pd"
   ]
  },
  {
   "cell_type": "code",
   "execution_count": null,
   "metadata": {},
   "outputs": [],
   "source": [
    "#fiis_list = [\"btlg11\"]\n",
    "fiis_list = [\"bcff11\",\"btlg11\",\"cpts11\",\"cvbi11\",\"deva11\",\"ggrc11\",\"hctr11\",\"hfof11\",\"hgbs11\",\"hglg11\",\"hgru11\",\"hsml11\",\"irdm11\",\"kncr11\",\"knri11\",\"mcci11\",\"mfii11\",\"mxrf11\",\"rbva11\",\"recr11\",\"rect11\",\"rzat11\",\"snci11\",\"snff11\",\"tord11\",\"trbl11\",\"trxf11\",\"urpr11\",\"vgip11\",\"visc11\",\"vrta11\",\"vslh11\",\"xpci11\",\"xpcm11\",\"xplg11\"]"
   ]
  },
  {
   "cell_type": "code",
   "execution_count": null,
   "metadata": {},
   "outputs": [],
   "source": [
    "fiis_indicators = []\n",
    "for fii in fiis_list:\n",
    "  url = f\"https://statusinvest.com.br/fundos-imobiliarios/{fii}\"\n",
    "  \n",
    "  time.sleep(0.25)\n",
    "  try:\n",
    "    req = Request(url)\n",
    "    req.add_header('User-Agent', 'Mozilla/5.0 (Linux; Android 6.0; Nexus 5 Build/MRA58N) AppleWebKit/537.36 (KHTML, like Gecko) Chrome/119.0.0.0 Mobile Safari/537.36')\n",
    "    html = urlopen(req)\n",
    "    soup = BeautifulSoup(html, 'html.parser')\n",
    "      \n",
    "    fund = soup.find(\"div\", id=\"fund-section\")\n",
    "    main = soup.find(\"main\", id=\"main-2\")\n",
    "\n",
    "    name = fund.find_all(\"div\", \"info\")[1].find(\"strong\").getText()\n",
    "    init = fund.find_all(\"div\", \"info\")[2].find(\"strong\").getText()\n",
    "    sector = fund.find(\"div\", \"top-info top-info-1 top-info-sm-2 top-info-md-n sm d-flex justify-between\").find(\"strong\").getText()\n",
    "    type = fund.find_all(\"div\", \"info\")[4].find(\"strong\").getText()\n",
    "    administrator = fund.find(\"div\", \"container\").find(\"strong\", \"fw-700\").getText()\n",
    "\n",
    "    price = main.find(\"div\", title=\"Valor atual do ativo\").find(\"strong\").getText()\n",
    "    dividend_yield = main.find(\"div\", title=\"Dividend Yield com base nos últimos 12 meses\").find(\"strong\").getText()\n",
    "    net_worth = main.find(\"div\", \"top-info top-info-2 top-info-md-3 top-info-lg-n d-flex justify-between\").find_all(\"div\", recursive=False)[0].find(\"span\", \"sub-value\").getText().replace(\"R$ \",\"\")\n",
    "    asset_value = main.find(\"div\", \"top-info top-info-2 top-info-md-3 top-info-lg-n d-flex justify-between\").find_all(\"div\", recursive=False)[0].find(\"strong\").getText()\n",
    "    pvp = main.find(\"div\", \"top-info top-info-2 top-info-md-3 top-info-lg-n d-flex justify-between\").find_all(\"div\", recursive=False)[1].find(\"strong\").getText()\n",
    "    shareholders = main.find(\"div\", \"top-info top-info-2 top-info-md-3 top-info-lg-n d-flex justify-between\").find_all(\"div\", recursive=False)[5].find(\"strong\").getText()\n",
    "    lastDiv = main.find(\"div\", \"mt-5 d-flex flex-wrap flex-lg-nowrap justify-between\").find_all(\"div\", recursive=False)[1].find(\"strong\").getText()\n",
    "    lastDate = main.find(\"div\", \"mt-5 d-flex flex-wrap flex-lg-nowrap justify-between\").find_all(\"div\", recursive=False)[1].find_all(\"b\")[3].getText()\n",
    "    nextDiv = main.find(\"div\", \"mt-5 d-flex flex-wrap flex-lg-nowrap justify-between\").find_all(\"div\", recursive=False)[2].find(\"strong\").getText()\n",
    "    nextDate = main.find(\"div\", \"mt-5 d-flex flex-wrap flex-lg-nowrap justify-between\").find_all(\"div\", recursive=False)[2].find_all(\"b\")[3].getText()\n",
    "\n",
    "    dict = {  \"fii\": fii,\n",
    "        \"nome\": name,\n",
    "        \"segmento\": sector,\n",
    "        \"tipo\": type,\n",
    "        \"administrador\": administrator,\n",
    "        \"cotistas\" : shareholders,\n",
    "        \"patrimonio\": net_worth,\n",
    "        \"vp\" : asset_value,\n",
    "        \"valor_atual\": price,\n",
    "        \"pvp\": pvp,\n",
    "        \"dividend_yield\": dividend_yield,\n",
    "        \"ultimo dividendo\" : lastDiv,\n",
    "        \"data pagamento(u)\": lastDate,\n",
    "        \"proximo dividendo\" : nextDiv,\n",
    "        \"data pagamento(p)\": nextDate,\n",
    "    }\n",
    "    fiis_indicators.append(dict)\n",
    "  except Exception as e:\n",
    "    print(e)"
   ]
  },
  {
   "cell_type": "code",
   "execution_count": null,
   "metadata": {},
   "outputs": [],
   "source": [
    "print(fiis_indicators)"
   ]
  },
  {
   "cell_type": "code",
   "execution_count": null,
   "metadata": {},
   "outputs": [],
   "source": [
    "df = pd.DataFrame.from_dict(fiis_indicators)"
   ]
  },
  {
   "cell_type": "code",
   "execution_count": null,
   "metadata": {},
   "outputs": [],
   "source": [
    "df.to_excel(\"fiis.xlsx\", index=False)"
   ]
  }
 ],
 "metadata": {
  "kernelspec": {
   "display_name": "Python 3 (ipykernel)",
   "language": "python",
   "name": "python3"
  },
  "language_info": {
   "codemirror_mode": {
    "name": "ipython",
    "version": 3
   },
   "file_extension": ".py",
   "mimetype": "text/x-python",
   "name": "python",
   "nbconvert_exporter": "python",
   "pygments_lexer": "ipython3",
   "version": "3.12.1"
  },
  "vscode": {
   "interpreter": {
    "hash": "ad2bdc8ecc057115af97d19610ffacc2b4e99fae6737bb82f5d7fb13d2f2c186"
   }
  }
 },
 "nbformat": 4,
 "nbformat_minor": 4
}
