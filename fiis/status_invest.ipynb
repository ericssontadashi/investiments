{
 "cells": [
  {
   "cell_type": "code",
   "execution_count": 1,
   "metadata": {},
   "outputs": [],
   "source": [
    "from bs4 import BeautifulSoup\n",
    "import requests\n",
    "from urllib.request import Request, urlopen\n",
    "import time\n",
    "import pandas as pd"
   ]
  },
  {
   "cell_type": "code",
   "execution_count": 2,
   "metadata": {},
   "outputs": [],
   "source": [
    "fiis_list = [\"ALZR11\", \"BRCR11\", \"BTLG11\", \"CPTS11\", \"HGLG11\", \"HGRE11\", \"HSML11\", \"KNCR11\", \"KNRI11\", \"MXRF11\", \"VISC11\", \"XPLG11\", \"XPML11\"]\n"
   ]
  },
  {
   "cell_type": "code",
   "execution_count": 3,
   "metadata": {},
   "outputs": [
    {
     "name": "stdout",
     "output_type": "stream",
     "text": [
      "'NoneType' object has no attribute 'find_all'\n",
      "'NoneType' object has no attribute 'find_all'\n"
     ]
    }
   ],
   "source": [
    "fiis_indicators = []\n",
    "for fii in fiis_list:\n",
    "  url = f\"https://statusinvest.com.br/fundos-imobiliarios/{fii}\"\n",
    "  \n",
    "  time.sleep(0.25)\n",
    "  try:\n",
    "    req = Request(url)\n",
    "    req.add_header('User-Agent', 'Mozilla/5.0 (Linux; Android 6.0; Nexus 5 Build/MRA58N) AppleWebKit/537.36 (KHTML, like Gecko) Chrome/119.0.0.0 Mobile Safari/537.36')\n",
    "    html = urlopen(req)\n",
    "    soup = BeautifulSoup(html, 'html.parser')\n",
    "      \n",
    "    fund = soup.find(\"div\", id=\"fund-section\")\n",
    "    main = soup.find(\"main\", id=\"main-2\")\n",
    "\n",
    "    name = fund.find_all(\"div\")[16].find(\"strong\").getText()\n",
    "    init = fund.find_all(\"div\")[19].find(\"strong\").getText()\n",
    "    sector = fund.find_all(\"div\")[28].find(\"strong\").getText()\n",
    "    type = fund.find_all(\"div\")[26].find(\"strong\").getText()\n",
    "    administrator = fund.find(\"div\", \"container\").find_all(\"div\", recursive=False)[2].find(\"strong\", \"fw-700\").getText()\n",
    "\n",
    "    price = main.find(\"div\", title=\"Valor atual do ativo\").find(\"strong\").getText()\n",
    "    dividend_yield = main.find(\"div\", title=\"Dividend Yield com base nos últimos 12 meses\").find(\"strong\").getText()\n",
    "    net_worth = main.find(\"div\", \"top-info top-info-2 top-info-md-3 top-info-lg-n d-flex justify-between\").find_all(\"div\", recursive=False)[0].find(\"span\", \"sub-value\").getText().replace(\"R$ \",\"\")\n",
    "    asset_value = main.find(\"div\", \"top-info top-info-2 top-info-md-3 top-info-lg-n d-flex justify-between\").find_all(\"div\", recursive=False)[0].find(\"strong\").getText()\n",
    "    pvp = main.find(\"div\", \"top-info top-info-2 top-info-md-3 top-info-lg-n d-flex justify-between\").find_all(\"div\", recursive=False)[1].find(\"strong\").getText()\n",
    "    shareholders = main.find(\"div\", \"top-info top-info-2 top-info-md-3 top-info-lg-n d-flex justify-between\").find_all(\"div\", recursive=False)[5].find(\"strong\").getText()\n",
    "    lastDiv = main.find(\"div\", \"mt-5 d-flex flex-wrap flex-lg-nowrap justify-between\").find_all(\"div\", recursive=False)[1].find(\"strong\").getText()\n",
    "    nextDiv = main.find(\"div\", \"mt-5 d-flex flex-wrap flex-lg-nowrap justify-between\").find_all(\"div\", recursive=False)[2].find(\"strong\").getText()\n",
    "\n",
    "    dict = {  \"fii\": fii,\n",
    "        \"nome\": name,\n",
    "        \"segmento\": sector,\n",
    "        \"tipo\": type,\n",
    "        \"administrador\": administrator,\n",
    "        \"cotistas\" : shareholders,\n",
    "        \"patrimonio\": net_worth,\n",
    "        \"vp\" : asset_value,\n",
    "        \"valor_atual\": price,\n",
    "        \"pvp\": pvp,\n",
    "        \"dividend_yield\": dividend_yield,\n",
    "        \"ultimo dividendo\" : lastDiv,\n",
    "        \"proximo dividendo\" : nextDiv,\n",
    "    }\n",
    "    fiis_indicators.append(dict)\n",
    "  except Exception as e:\n",
    "    print(e)"
   ]
  },
  {
   "cell_type": "code",
   "execution_count": 4,
   "metadata": {},
   "outputs": [
    {
     "name": "stdout",
     "output_type": "stream",
     "text": [
      "[{'fii': 'ALZR11', 'nome': 'Alianza Trust Renda Imobiliária', 'segmento': 'Híbrido', 'tipo': 'Renda', 'administrador': 'BTG PACTUAL SERVIÇOS FINANCEIROS S/A DTVM', 'cotistas': '147.506', 'patrimonio': '1.059.348.545', 'vp': '107,43', 'valor_atual': '113,87', 'pvp': '1,06', 'dividend_yield': '8,52', 'ultimo dividendo': '0,8250', 'proximo dividendo': '0,8250'}, {'fii': 'BRCR11', 'nome': 'BTG Pactual Corporate Office', 'segmento': 'Híbrido', 'tipo': 'Híbrido', 'administrador': 'BTG PACTUAL SERVIÇOS FINANCEIROS S/A DTVM', 'cotistas': '152.081', 'patrimonio': '2.671.875.040', 'vp': '100,30', 'valor_atual': '57,88', 'pvp': '0,58', 'dividend_yield': '9,31', 'ultimo dividendo': '0,4100', 'proximo dividendo': '-'}, {'fii': 'BTLG11', 'nome': 'FII BTLG', 'segmento': 'Híbrido', 'tipo': 'Renda', 'administrador': 'BTG PACTUAL SERVIÇOS FINANCEIROS S/A DTVM', 'cotistas': '254.883', 'patrimonio': '2.822.465.817', 'vp': '99,06', 'valor_atual': '99,53', 'pvp': '1,00', 'dividend_yield': '9,02', 'ultimo dividendo': '0,7600', 'proximo dividendo': '0,7600'}, {'fii': 'CPTS11', 'nome': 'Capitania Securities II', 'segmento': 'Títulos e Valores Mobiliários', 'tipo': 'Títulos e Valores Mobiliários', 'administrador': 'BTG PACTUAL SERVIÇOS FINANCEIROS S/A DTVM', 'cotistas': '277.648', 'patrimonio': '2.808.844.362', 'vp': '8,84', 'valor_atual': '7,91', 'pvp': '0,89', 'dividend_yield': '10,80', 'ultimo dividendo': '0,0610', 'proximo dividendo': '-'}, {'fii': 'HGLG11', 'nome': 'CGHG Logística', 'segmento': 'Logística', 'tipo': 'Renda', 'administrador': 'CREDIT SUISSE HEDGING-GRIFFO CORRETORA DE VALORES S.A.', 'cotistas': '424.235', 'patrimonio': '5.173.860.469', 'vp': '153,13', 'valor_atual': '162,31', 'pvp': '1,06', 'dividend_yield': '9,06', 'ultimo dividendo': '1,1000', 'proximo dividendo': '-'}, {'fii': 'HGRE11', 'nome': 'CSHG Real Estate', 'segmento': 'Lajes Corporativas', 'tipo': 'Renda', 'administrador': 'CREDIT SUISSE HEDGING-GRIFFO CORRETORA DE VALORES S.A.', 'cotistas': '146.718', 'patrimonio': '1.829.254.728', 'vp': '154,79', 'valor_atual': '128,80', 'pvp': '0,83', 'dividend_yield': '8,00', 'ultimo dividendo': '0,7800', 'proximo dividendo': '-'}, {'fii': 'HSML11', 'nome': 'FII HSI MALL', 'segmento': 'Shoppings', 'tipo': 'Renda', 'administrador': 'SANTANDER SECURITIES SERVICES BRASIL DTVM S.A', 'cotistas': '165.733', 'patrimonio': '1.489.512.920', 'vp': '94,39', 'valor_atual': '93,06', 'pvp': '0,99', 'dividend_yield': '9,39', 'ultimo dividendo': '0,7400', 'proximo dividendo': '-'}, {'fii': 'KNCR11', 'nome': 'Kinea Rendimentos Imobiliários', 'segmento': 'Títulos e Valores Mobiliários', 'tipo': 'Títulos e Valores Mobiliários', 'administrador': 'INTRAG DTVM LTDA.', 'cotistas': '298.688', 'patrimonio': '5.765.467.581', 'vp': '100,98', 'valor_atual': '102,58', 'pvp': '1,02', 'dividend_yield': '13,33', 'ultimo dividendo': '1,1100', 'proximo dividendo': '-'}, {'fii': 'KNRI11', 'nome': 'Kinea Renda Imobiliária', 'segmento': 'Híbrido', 'tipo': 'Renda', 'administrador': 'INTRAG DTVM LTDA.', 'cotistas': '262.077', 'patrimonio': '3.848.335.269', 'vp': '159,30', 'valor_atual': '159,20', 'pvp': '1,00', 'dividend_yield': '7,56', 'ultimo dividendo': '1,0000', 'proximo dividendo': '-'}, {'fii': 'MXRF11', 'nome': 'Maxi Renda', 'segmento': 'Híbrido', 'tipo': 'Híbrido', 'administrador': 'BTG PACTUAL SERVIÇOS FINANCEIROS S/A DTVM', 'cotistas': '988.568', 'patrimonio': '2.548.277.132', 'vp': '9,83', 'valor_atual': '10,95', 'pvp': '1,11', 'dividend_yield': '12,24', 'ultimo dividendo': '0,1100', 'proximo dividendo': '-'}, {'fii': 'VISC11', 'nome': 'Vinci Shopping Centers', 'segmento': 'Shoppings', 'tipo': 'Renda', 'administrador': 'BRL TRUST DISTRIBUIDORA DE TITULOS E VALORES MOBILIARIOS S.A.', 'cotistas': '268.136', 'patrimonio': '2.450.569.282', 'vp': '115,36', 'valor_atual': '118,01', 'pvp': '1,02', 'dividend_yield': '8,67', 'ultimo dividendo': '1,0000', 'proximo dividendo': '-'}, {'fii': 'XPLG11', 'nome': 'XP Log', 'segmento': 'Logística', 'tipo': 'Híbrido', 'administrador': 'VORTX DISTRIBUIDORA DE TITULOS E VALORES MOBILIARIOS LTDA.', 'cotistas': '312.206', 'patrimonio': '2.988.134.349', 'vp': '110,26', 'valor_atual': '107,00', 'pvp': '0,97', 'dividend_yield': '8,50', 'ultimo dividendo': '0,7800', 'proximo dividendo': '-'}, {'fii': 'XPML11', 'nome': 'XP Malls', 'segmento': 'Shoppings', 'tipo': 'Renda', 'administrador': 'XP INVESTIMENTOS CCTVM S.A.', 'cotistas': '384.432', 'patrimonio': '3.455.928.054', 'vp': '112,12', 'valor_atual': '111,28', 'pvp': '0,99', 'dividend_yield': '8,86', 'ultimo dividendo': '0,8500', 'proximo dividendo': '0,8500'}]\n"
     ]
    }
   ],
   "source": [
    "print(fiis_indicators)"
   ]
  },
  {
   "cell_type": "code",
   "execution_count": 5,
   "metadata": {},
   "outputs": [],
   "source": [
    "df = pd.DataFrame.from_dict(fiis_indicators)"
   ]
  },
  {
   "cell_type": "code",
   "execution_count": 6,
   "metadata": {},
   "outputs": [],
   "source": [
    "df.to_excel(\"fiis.xlsx\", index=False)"
   ]
  },
  {
   "cell_type": "code",
   "execution_count": null,
   "metadata": {},
   "outputs": [],
   "source": []
  },
  {
   "cell_type": "code",
   "execution_count": null,
   "metadata": {},
   "outputs": [],
   "source": []
  },
  {
   "cell_type": "code",
   "execution_count": null,
   "metadata": {},
   "outputs": [],
   "source": []
  },
  {
   "cell_type": "code",
   "execution_count": null,
   "metadata": {},
   "outputs": [],
   "source": []
  }
 ],
 "metadata": {
  "kernelspec": {
   "display_name": "Python 3 (ipykernel)",
   "language": "python",
   "name": "python3"
  },
  "language_info": {
   "codemirror_mode": {
    "name": "ipython",
    "version": 3
   },
   "file_extension": ".py",
   "mimetype": "text/x-python",
   "name": "python",
   "nbconvert_exporter": "python",
   "pygments_lexer": "ipython3",
   "version": "3.11.6"
  },
  "vscode": {
   "interpreter": {
    "hash": "ad2bdc8ecc057115af97d19610ffacc2b4e99fae6737bb82f5d7fb13d2f2c186"
   }
  }
 },
 "nbformat": 4,
 "nbformat_minor": 4
}
