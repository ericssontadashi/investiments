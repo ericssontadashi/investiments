{
 "cells": [
  {
   "cell_type": "code",
   "execution_count": null,
   "id": "21e7b5ec-5f6e-433c-b149-d33815df1aca",
   "metadata": {},
   "outputs": [],
   "source": [
    "from bs4 import BeautifulSoup\n",
    "import requests\n",
    "from urllib.request import Request, urlopen\n",
    "import time\n",
    "import pandas as pd"
   ]
  },
  {
   "cell_type": "code",
   "execution_count": null,
   "id": "3dafac64-f09e-415e-beec-2e2b4eb73ea4",
   "metadata": {},
   "outputs": [],
   "source": [
    "fiis_list = [\"snag11\"]"
   ]
  },
  {
   "cell_type": "code",
   "execution_count": null,
   "id": "2c13e8f1-2a25-4e5d-96b4-84267290053b",
   "metadata": {},
   "outputs": [],
   "source": [
    "fiis_indicators = []\n",
    "for fii in fiis_list:\n",
    "  url = f\"https://statusinvest.com.br/fiagros/{fii}\"\n",
    "  \n",
    "  time.sleep(0.25)\n",
    "  try:\n",
    "    req = Request(url)\n",
    "    req.add_header('User-Agent', 'Mozilla/5.0 (Linux; Android 6.0; Nexus 5 Build/MRA58N) AppleWebKit/537.36 (KHTML, like Gecko) Chrome/119.0.0.0 Mobile Safari/537.36')\n",
    "    html = urlopen(req)\n",
    "    soup = BeautifulSoup(html, 'html.parser')\n",
    "      \n",
    "    fund = soup.find(\"div\", id=\"fund-section\")\n",
    "    main = soup.find(\"main\", id=\"main-2\")\n",
    "\n",
    "    name = fund.find_all(\"div\", \"info\")[1].find(\"strong\").getText()\n",
    "    init = fund.find_all(\"div\", \"info\")[2].find(\"strong\").getText()\n",
    "    sector = fund.find_all(\"div\", \"info\")[5].find(\"strong\").getText()\n",
    "    type = fund.find_all(\"div\", \"info\")[4].find(\"strong\").getText()\n",
    "    administrator = fund.find(\"div\", \"container\").find(\"strong\", \"fw-700\").getText()\n",
    "\n",
    "    price = main.find(\"div\", title=\"Valor atual do ativo\").find(\"strong\").getText()\n",
    "    dividend_yield = main.find(\"div\", title=\"Dividend Yield com base nos últimos 12 meses\").find(\"strong\").getText()\n",
    "    net_worth = main.find(\"div\", \"top-info top-info-2 top-info-md-3 top-info-lg-n d-flex justify-between\").find_all(\"div\", recursive=False)[0].find(\"span\", \"sub-value\").getText().replace(\"R$ \",\"\")\n",
    "    asset_value = main.find(\"div\", \"top-info top-info-2 top-info-md-3 top-info-lg-n d-flex justify-between\").find_all(\"div\", recursive=False)[0].find(\"strong\").getText()\n",
    "    pvp = main.find(\"div\", \"top-info top-info-2 top-info-md-3 top-info-lg-n d-flex justify-between\").find_all(\"div\", recursive=False)[1].find(\"strong\").getText()\n",
    "    shareholders = main.find(\"div\", \"top-info top-info-2 top-info-md-3 top-info-lg-n d-flex justify-between\").find_all(\"div\", recursive=False)[5].find(\"strong\").getText()\n",
    "    lastDiv = main.find(\"div\", \"mb-5 d-flex flex-wrap flex-lg-nowrap justify-between\").find_all(\"div\", recursive=False)[1].find(\"strong\").getText()\n",
    "    nextDiv = main.find(\"div\", \"mb-5 d-flex flex-wrap flex-lg-nowrap justify-between\").find_all(\"div\", recursive=False)[2].find(\"strong\").getText()\n",
    "\n",
    "    dict = {  \"fii\": fii,\n",
    "        \"nome\": name,\n",
    "        \"segmento\": sector,\n",
    "        \"tipo\": type,\n",
    "        \"administrador\": administrator,\n",
    "        \"cotistas\" : shareholders,\n",
    "        \"patrimonio\": net_worth,\n",
    "        \"vp\" : asset_value,\n",
    "        \"valor_atual\": price,\n",
    "        \"pvp\": pvp,\n",
    "        \"dividend_yield\": dividend_yield,\n",
    "        \"ultimo dividendo\" : lastDiv,\n",
    "        \"proximo dividendo\" : nextDiv,\n",
    "    }\n",
    "    fiis_indicators.append(dict)\n",
    "  except Exception as e:\n",
    "    print(e)\n",
    "    print(e.stacktrace)"
   ]
  },
  {
   "cell_type": "code",
   "execution_count": null,
   "id": "109a361c-db25-4685-9608-b14624e2ccf8",
   "metadata": {},
   "outputs": [],
   "source": [
    "print(fiis_indicators)"
   ]
  },
  {
   "cell_type": "code",
   "execution_count": null,
   "id": "b5518448-4c40-4d72-838f-01e9ab79d254",
   "metadata": {},
   "outputs": [],
   "source": [
    "df = pd.DataFrame.from_dict(fiis_indicators)"
   ]
  },
  {
   "cell_type": "code",
   "execution_count": null,
   "id": "71909a7f-491c-405d-b889-303a82d99856",
   "metadata": {},
   "outputs": [],
   "source": [
    "df.to_excel(\"fiagros.xlsx\", index=False)"
   ]
  },
  {
   "cell_type": "code",
   "execution_count": null,
   "id": "65dc94fd-3717-4d54-9511-d5e5e4f0c4ed",
   "metadata": {},
   "outputs": [],
   "source": []
  }
 ],
 "metadata": {
  "kernelspec": {
   "display_name": "Python 3 (ipykernel)",
   "language": "python",
   "name": "python3"
  },
  "language_info": {
   "codemirror_mode": {
    "name": "ipython",
    "version": 3
   },
   "file_extension": ".py",
   "mimetype": "text/x-python",
   "name": "python",
   "nbconvert_exporter": "python",
   "pygments_lexer": "ipython3",
   "version": "3.12.0"
  }
 },
 "nbformat": 4,
 "nbformat_minor": 5
}
